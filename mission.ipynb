{
 "cells": [
  {
   "cell_type": "code",
   "execution_count": 1,
   "metadata": {},
   "outputs": [],
   "source": [
    "import pandas as pd\n",
    "from splinter import Browser\n",
    "from bs4 import BeautifulSoup\n",
    "import nbconvert"
   ]
  },
  {
   "cell_type": "code",
   "execution_count": 2,
   "metadata": {},
   "outputs": [],
   "source": [
    "#Headline URL\n",
    "headline_url = \"https://mars.nasa.gov/news/\"\n",
    "#Image URL\n",
    "image_url = \"https://www.jpl.nasa.gov/spaceimages/?search=&category=Mars\"\n",
    "#Twitter URL\n",
    "twitter_url = \"https://twitter.com/marswxreport?lang=en\"\n",
    "#Facts URL\n",
    "facts_url = \"https://space-facts.com/mars/\"\n",
    "#Hemispheres URL\n",
    "hemispheres_url = \"https://astrogeology.usgs.gov/search/results?q=hemisphere+enhanced&k1=target&v1=Mars\""
   ]
  },
  {
   "cell_type": "code",
   "execution_count": 3,
   "metadata": {},
   "outputs": [],
   "source": [
    "def news(headline_url):\n",
    "    try:\n",
    "        browser = Browser('chrome', executable_path=r\"C:\\webdrivers\\chromedriver.exe\")\n",
    "        browser.visit(headline_url)\n",
    "        content = browser.html\n",
    "        browser.is_element_present_by_css(\"ul.item_list li.slide\" , wait_time = 1)\n",
    "        news = BeautifulSoup(content, \"html.parser\")\n",
    "        element = news.select_one(\"ul.item_list li.slide\")\n",
    "        element.find(\"div\", class_=\"content_title\")\n",
    "        news_title = element.find(\"div\", class_=\"content_title\").get_text()\n",
    "        news_p = element.find(\"div\", class_=\"article_teaser_body\").get_text()\n",
    "    except AttributeError:\n",
    "        return None\n",
    "    return news_title, news_p"
   ]
  },
  {
   "cell_type": "code",
   "execution_count": 4,
   "metadata": {},
   "outputs": [
    {
     "data": {
      "text/plain": [
       "(\"Air Deliveries Bring NASA's Perseverance Mars Rover Closer to Launch\",\n",
       " \"A NASA Wallops Flight Facility cargo plane transported more than two tons of equipment — including the rover's sample collection tubes — to Florida for this summer's liftoff.\")"
      ]
     },
     "execution_count": 4,
     "metadata": {},
     "output_type": "execute_result"
    }
   ],
   "source": [
    "#Headline Test\n",
    "news(headline_url)\n"
   ]
  },
  {
   "cell_type": "code",
   "execution_count": null,
   "metadata": {},
   "outputs": [],
   "source": [
    "def images(image_url):\n",
    "    try:\n",
    "        browser = Browser('chrome', executable_path=r\"C:\\webdrivers\\chromedriver.exe\")\n",
    "        browser.visit(image_url)\n",
    "        full_size = browser.find_by_id(\"full_image\")\n",
    "        full_size.click()\n",
    "        browser.is_element_present_by_text(\"more info\", wait_time=1)\n",
    "        more_info = browser.links.find_by_partial_text(\"more info\")\n",
    "        more_info.click()\n",
    "        content = browser.html\n",
    "        image_soup = BeautifulSoup(content, \"html.parser\")\n",
    "        image = image_soup.select_one(\"figure.lede a img\")\n",
    "        image_url = image.get(\"src\")\n",
    "    except AttributeError:\n",
    "        return None\n",
    "    featured_image_url  = f\"https://www.jpl.nasa.gov{image_url}\"\n",
    "    return featured_image_url"
   ]
  },
  {
   "cell_type": "code",
   "execution_count": null,
   "metadata": {},
   "outputs": [],
   "source": [
    "#Headline Test\n",
    "images(image_url)"
   ]
  },
  {
   "cell_type": "code",
   "execution_count": null,
   "metadata": {},
   "outputs": [],
   "source": [
    "def twitter(twitter_url):\n",
    "    try:\n",
    "        browser = Browser('chrome', executable_path=r\"C:\\webdrivers\\chromedriver.exe\")\n",
    "        browser.visit(twitter_url)\n",
    "        content =  browser.html\n",
    "        weather = BeautifulSoup(content, \"html.parser\")\n",
    "        weather_tweet = weather.find(\"div\", params = {\n",
    "                                               \"class\": \"tweet\", \n",
    "                                                \"data-name\": \"Mars Weather\"\n",
    "                                                })\n",
    "        mars_weather = weather_tweet.find(\"p\", \"tweet-text\").get_text()\n",
    "    except AttributeError:\n",
    "        return None\n",
    "    return mars_weather     "
   ]
  },
  {
   "cell_type": "code",
   "execution_count": null,
   "metadata": {},
   "outputs": [],
   "source": [
    "#Twitter Test\n",
    "twitter(twitter_url)"
   ]
  },
  {
   "cell_type": "code",
   "execution_count": null,
   "metadata": {},
   "outputs": [],
   "source": [
    "def facts(facts_url):\n",
    "    try:\n",
    "        df = pd.read_html(facts_url)[0]\n",
    "    except AttributeError:\n",
    "        return None\n",
    "    df.columns=[\"Profile\", \"Value\"]\n",
    "    df.set_index(\"Profile\", inplace=True)\n",
    "    return df"
   ]
  },
  {
   "cell_type": "code",
   "execution_count": null,
   "metadata": {},
   "outputs": [],
   "source": [
    "#Facts Test\n",
    "facts(facts_url)"
   ]
  },
  {
   "cell_type": "code",
   "execution_count": null,
   "metadata": {},
   "outputs": [],
   "source": [
    "def hemisphere(hemispheres_url):\n",
    "    try:\n",
    "        browser = Browser('chrome', executable_path=r\"C:\\webdrivers\\chromedriver.exe\")\n",
    "        browser.visit(hemispheres_url)\n",
    "        hemisphere_urls = []\n",
    "        item_count = browser.find_by_css(\"a.product-item h3\")\n",
    "        for i in range(len(item_count)):\n",
    "            hemisphere = {}\n",
    "            browser.find_by_css(\"a.product-item h3\")[i].click()\n",
    "            hemisphere[\"name\"] = browser.find_by_css(\"h2.title\").text\n",
    "            image = browser.links.find_by_text(\"Sample\").first\n",
    "            hemisphere['image_url'] = image['href']\n",
    "            hemisphere_urls.append(hemisphere)\n",
    "            browser.back()\n",
    "    except AttributeError:\n",
    "        return None\n",
    "    return hemisphere_urls\n",
    "            "
   ]
  },
  {
   "cell_type": "code",
   "execution_count": null,
   "metadata": {},
   "outputs": [],
   "source": [
    "#Hemisphere Test\n",
    "hemisphere(hemispheres_url)"
   ]
  },
  {
   "cell_type": "code",
   "execution_count": null,
   "metadata": {},
   "outputs": [],
   "source": [
    "ipython nbconvert — to script mission.ipynb"
   ]
  },
  {
   "cell_type": "code",
   "execution_count": null,
   "metadata": {},
   "outputs": [],
   "source": []
  },
  {
   "cell_type": "code",
   "execution_count": null,
   "metadata": {},
   "outputs": [],
   "source": []
  }
 ],
 "metadata": {
  "kernelspec": {
   "display_name": "Python 3",
   "language": "python",
   "name": "python3"
  },
  "language_info": {
   "codemirror_mode": {
    "name": "ipython",
    "version": 3
   },
   "file_extension": ".py",
   "mimetype": "text/x-python",
   "name": "python",
   "nbconvert_exporter": "python",
   "pygments_lexer": "ipython3",
   "version": "3.6.5"
  }
 },
 "nbformat": 4,
 "nbformat_minor": 2
}
